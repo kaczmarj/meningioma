{
 "cells": [
  {
   "cell_type": "markdown",
   "metadata": {},
   "source": [
    "# Save ANTs BrainExtraction output (with IXI templates)"
   ]
  },
  {
   "cell_type": "code",
   "execution_count": null,
   "metadata": {
    "collapsed": false
   },
   "outputs": [],
   "source": [
    "from glob import glob\n",
    "import os\n",
    "import os.path as op\n",
    "import shutil\n",
    "\n",
    "BASE_PATH = '/om/user/jakubk/meningioma/'\n",
    "ORIG_PATH = op.join(BASE_PATH, 'ants_skullstrip/ants_brainstripper')\n",
    "SAVE_PATH = op.join(BASE_PATH, 'ants_skullstrip/IXI_output')\n",
    "\n",
    "all_files = sorted(glob(op.join(ORIG_PATH,'**/**template*/strip/*Brain.nii.gz')))\n",
    "for f in all_files:\n",
    "    subject_id = f.split('/')[-4][-17:-7]\n",
    "    template_id = f.split('/')[-3].split('.')[-3]\n",
    "    new_fname = \"{}_{}_brain.nii.gz\".format(subject_id, template_id)\n",
    "    save_abs_fname = op.join(SAVE_PATH, new_fname)\n",
    "    # shutil.copyfile(f, save_abs_fname)"
   ]
  },
  {
   "cell_type": "markdown",
   "metadata": {},
   "source": [
    "# Save ANTs BrainExtraction output (with NKI templates)"
   ]
  },
  {
   "cell_type": "code",
   "execution_count": null,
   "metadata": {
    "collapsed": false
   },
   "outputs": [],
   "source": [
    "from glob import glob\n",
    "import os\n",
    "import os.path as op\n",
    "import shutil\n",
    "\n",
    "BASE_PATH = '/om/user/jakubk/meningioma/'\n",
    "ORIG_PATH = op.join(BASE_PATH, 'ants_skullstrip/ants_brainstripper_NKI')\n",
    "SAVE_PATH = op.join(BASE_PATH, 'ants_skullstrip/NKI_output')\n",
    "\n",
    "all_files = sorted(glob(op.join(ORIG_PATH,'**/strip/*Brain.nii.gz')))\n",
    "for f in all_files:\n",
    "    subject_id = f.split('/')[-3][-17:-7]\n",
    "    new_fname = \"{}_brain.nii.gz\".format(subject_id)\n",
    "    save_abs_fname = op.join(SAVE_PATH, new_fname)\n",
    "    # shutil.copyfile(f, save_abs_fname)"
   ]
  },
  {
   "cell_type": "markdown",
   "metadata": {
    "collapsed": true
   },
   "source": [
    "# Save ANTs BrainExtraction output (with segmentation)"
   ]
  },
  {
   "cell_type": "code",
   "execution_count": null,
   "metadata": {
    "collapsed": true
   },
   "outputs": [],
   "source": [
    "from glob import glob\n",
    "import os.path as op\n",
    "import shutil\n",
    "\n",
    "ORIG_PATH = '/om/scratch/Wed/jakubk/secondtry/ants/seg/mapflow/'\n",
    "SAVE_DIR = '/om/user/jakubk/meningioma/ants_seg_output/'"
   ]
  },
  {
   "cell_type": "code",
   "execution_count": null,
   "metadata": {
    "collapsed": false
   },
   "outputs": [],
   "source": [
    "dirs = glob(op.join(ORIG_PATH, '_seg*/'))\n",
    "\n",
    "for dir_ in dirs:\n",
    "\n",
    "    report = op.join(dir_, 'command.txt')\n",
    "    with open(report) as f:\n",
    "        subject_id = [line.rstrip('\\n') for line in f][0]\n",
    "    subject_id = subject_id.split(' ')[2][-17:-7]\n",
    "\n",
    "    orig_brain_file = op.join(dir_, 'highres001_BrainExtractionBrain.nii.gz')\n",
    "    orig_seg_file = op.join(dir_, 'highres001_BrainExtractionSegmentation.nii.gz')\n",
    "    new_brain_file = op.join(SAVE_DIR, \"brain/{}_brain.nii.gz\".format(subject_id))\n",
    "    new_seg_file = op.join(SAVE_DIR, \"seg/{}_seg.nii.gz\".format(subject_id))\n",
    "    \n",
    "    # shutil.copyfile(orig_brain_file, new_brain_file)\n",
    "    # shutil.copyfile(orig_seg_file, new_seg_file)"
   ]
  },
  {
   "cell_type": "markdown",
   "metadata": {
    "collapsed": true
   },
   "source": [
    "# Copy FAST output"
   ]
  },
  {
   "cell_type": "code",
   "execution_count": 1,
   "metadata": {
    "collapsed": true
   },
   "outputs": [],
   "source": [
    "from glob import glob\n",
    "import os.path as op\n",
    "import shutil\n",
    "\n",
    "ORIG_PATH = '/om/scratch/Wed/jakubk/fast_orig/_number_classes_*/fast/mapflow/_fast*/'\n",
    "SAVE_DIR = '/om/user/jakubk/meningioma/fast_output/orig/'\n",
    "\n",
    "dirs = sorted(glob(ORIG_PATH))"
   ]
  },
  {
   "cell_type": "code",
   "execution_count": 2,
   "metadata": {
    "collapsed": false
   },
   "outputs": [],
   "source": [
    "for dir_ in dirs:\n",
    "    orig_file =  glob(op.join(dir_, '*_seg*.nii.gz'))[0]\n",
    "    new_file = op.split(orig_file)[-1]    \n",
    "    for i in range(3, 6):\n",
    "        if '_number_classes_{}'.format(i) in orig_file:\n",
    "            n_classes = i\n",
    "            break\n",
    "    new_file = op.join(SAVE_DIR, 'classes_{}'.format(n_classes), new_file)\n",
    "    shutil.copyfile(orig_file, new_file)"
   ]
  },
  {
   "cell_type": "code",
   "execution_count": 3,
   "metadata": {
    "collapsed": false
   },
   "outputs": [
    {
     "data": {
      "text/plain": [
       "'\\nX: 85\\nY: 128\\nZ: 96\\n'"
      ]
     },
     "execution_count": 3,
     "metadata": {},
     "output_type": "execute_result"
    }
   ],
   "source": [
    "\"\"\"\n",
    "case_001:\n",
    "X: 106\n",
    "Y: 97\n",
    "Z: 26\n",
    "\n",
    "case_052:\n",
    "X: 83\n",
    "Y: 126\n",
    "Z: 105\n",
    "\"\"\""
   ]
  },
  {
   "cell_type": "code",
   "execution_count": null,
   "metadata": {
    "collapsed": true
   },
   "outputs": [],
   "source": []
  }
 ],
 "metadata": {
  "anaconda-cloud": {},
  "kernelspec": {
   "display_name": "Python [default]",
   "language": "python",
   "name": "python2"
  },
  "language_info": {
   "codemirror_mode": {
    "name": "ipython",
    "version": 2
   },
   "file_extension": ".py",
   "mimetype": "text/x-python",
   "name": "python",
   "nbconvert_exporter": "python",
   "pygments_lexer": "ipython2",
   "version": "2.7.13"
  }
 },
 "nbformat": 4,
 "nbformat_minor": 1
}
