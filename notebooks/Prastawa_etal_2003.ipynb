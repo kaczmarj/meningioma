{
 "cells": [
  {
   "cell_type": "markdown",
   "metadata": {},
   "source": [
    "Trying to replicate \"Automatic Brain Tumor Segmentation by Subject Specific Modification of Atlas Priors\" (Prastawa et al., 2003).\n",
    "\n",
    "Create tumor prior\n",
    "------------------\n",
    "\n",
    "1. Co-register T1 and T1 contrast-enhanced.\n",
    "1. Subtract T1 from T1 contrast-enhanced.\n",
    "1. Use subtracted volume to make a probability mask."
   ]
  },
  {
   "cell_type": "code",
   "execution_count": null,
   "metadata": {
    "collapsed": true
   },
   "outputs": [],
   "source": [
    "%matplotlib inline"
   ]
  },
  {
   "cell_type": "code",
   "execution_count": null,
   "metadata": {
    "collapsed": false,
    "scrolled": false
   },
   "outputs": [],
   "source": [
    "from __future__ import division, print_function\n",
    "\n",
    "import os.path as op\n",
    "import matplotlib.pyplot as plt\n",
    "import nibabel as nib\n",
    "import numpy as np\n",
    "\n",
    "def plot(arr, title=None):\n",
    "    \"\"\"Plot a 2D slice.\"\"\"\n",
    "    plt.imshow(arr, cmap='gray', origin='lower')\n",
    "    if title is not None:\n",
    "        plt.title(title)\n",
    "    plt.show()\n",
    "\n",
    "def transform_0_1(arr):\n",
    "    \"\"\"Transform data to range [0, 1].\"\"\"\n",
    "    return (arr - arr.min()) / (arr.max() - arr.min())"
   ]
  },
  {
   "cell_type": "code",
   "execution_count": null,
   "metadata": {
    "collapsed": false,
    "scrolled": true
   },
   "outputs": [],
   "source": [
    "data_dir = '/om/user/jakubk/meningioma/data'\n",
    "subject = 'subj-005'\n",
    "\n",
    "T1_contrast = '{}_gad-T1w.nii.gz'.format(subject)\n",
    "T1_contrast_nii = nib.load(op.join(data_dir, subject, 'anat', T1_contrast))\n",
    "T1_contrast = T1_contrast_nii.get_data()\n",
    "\n",
    "T1 = '{}_T1w.nii.gz'.format(subject)\n",
    "T1_nii = nib.load(op.join(data_dir, subject, 'anat', T1))\n",
    "T1 = T1_nii.get_data()\n",
    "\n",
    "T1_flirt = '{}_T1w-flirt.nii.gz'.format(subject)  # Registered to T1 contrast.\n",
    "T1_flirt_nii = nib.load(op.join(data_dir, subject, 'anat', T1_flirt))\n",
    "T1_flirt = T1_flirt_nii.get_data()\n",
    "\n",
    "T2 = '{}_T2w.nii.gz'.format(subject)\n",
    "T2_nii = nib.load(op.join(data_dir, subject, 'anat', T2))\n",
    "T2 = T2_nii.get_data()\n",
    "\n",
    "T2_flirt = '{}_T2w-flirt.nii.gz'.format(subject)  # Registered to T1 contrast.\n",
    "T2_flirt_nii = nib.load(op.join(data_dir, subject, 'anat', T2_flirt))\n",
    "T2_flirt = T2_flirt_nii.get_data()"
   ]
  },
  {
   "cell_type": "code",
   "execution_count": null,
   "metadata": {
    "collapsed": false,
    "scrolled": false
   },
   "outputs": [],
   "source": [
    "print(\"T1 contrast shape\", T1_contrast.shape)\n",
    "print(\"T1 shape\", T1.shape)\n",
    "print(\"T1 FLIRT shape\", T1_flirt.shape)\n",
    "print(\"T2 shape\", T2.shape)\n",
    "print(\"T2 FLIRT shape\", T2_flirt.shape)"
   ]
  },
  {
   "cell_type": "code",
   "execution_count": null,
   "metadata": {
    "collapsed": false,
    "scrolled": false
   },
   "outputs": [],
   "source": [
    "slice_ = 135\n",
    "plot(T1_contrast[:, :, slice_].T, \"T1 contrast-enhanced\")\n",
    "plot(T1_flirt[:, :, slice_].T, \"T1 registered to T1 CE\")"
   ]
  },
  {
   "cell_type": "code",
   "execution_count": null,
   "metadata": {
    "collapsed": false,
    "scrolled": false
   },
   "outputs": [],
   "source": [
    "# diff = T1_post - T1_pre\n",
    "diff = (T1_contrast[:, :, slice_] - T1_flirt[:, :, slice_]).T\n",
    "plot(diff, \"Difference image\")\n",
    "\n",
    "diff_0_1 = transform_0_1(T1_contrast[:, :, slice_]) - transform_0_1(T1_flirt[:, :, slice_])\n",
    "plot(diff_0_1.T, \"Difference image scaled\")"
   ]
  },
  {
   "cell_type": "code",
   "execution_count": null,
   "metadata": {
    "collapsed": false
   },
   "outputs": [],
   "source": [
    "plt.hist(diff_0_1)\n",
    "plt.show()"
   ]
  },
  {
   "cell_type": "markdown",
   "metadata": {},
   "source": [
    "Why does it not look like the difference image in the paper by Prastawa and colleagues (2003)?\n",
    "\n",
    "<img src='https://www.ncbi.nlm.nih.gov/pmc/articles/PMC2430604/bin/nihms53796f3.jpg', width=500>\n",
    "\n",
    "*From left to right: T1 contrast-enhanced, T1, difference image (T1 CE - T1)*"
   ]
  },
  {
   "cell_type": "code",
   "execution_count": null,
   "metadata": {
    "collapsed": false
   },
   "outputs": [],
   "source": [
    "print(\"Difference image array\\n----------------------\")\n",
    "print(\"Minimum:\\t{:.2f}\".format(diff.min()))\n",
    "print(\"Max:\\t\\t{:.2f}\".format(diff.max()))\n",
    "print(\"Mean:\\t\\t{:.2f}\".format(diff.mean()))\n",
    "print(\"St. dev.:\\t{:.2f}\".format(diff.std()))"
   ]
  },
  {
   "cell_type": "code",
   "execution_count": null,
   "metadata": {
    "collapsed": true
   },
   "outputs": [],
   "source": []
  }
 ],
 "metadata": {
  "anaconda-cloud": {},
  "kernelspec": {
   "display_name": "Python [Root]",
   "language": "python",
   "name": "Python [Root]"
  },
  "language_info": {
   "codemirror_mode": {
    "name": "ipython",
    "version": 2
   },
   "file_extension": ".py",
   "mimetype": "text/x-python",
   "name": "python",
   "nbconvert_exporter": "python",
   "pygments_lexer": "ipython2",
   "version": "2.7.12"
  },
  "toc": {
   "colors": {
    "hover_highlight": "#DAA520",
    "running_highlight": "#FF0000",
    "selected_highlight": "#FFD700"
   },
   "moveMenuLeft": true,
   "nav_menu": {
    "height": "30px",
    "width": "252px"
   },
   "navigate_menu": true,
   "number_sections": false,
   "sideBar": true,
   "threshold": 4,
   "toc_cell": false,
   "toc_section_display": "block",
   "toc_window_display": false
  }
 },
 "nbformat": 4,
 "nbformat_minor": 0
}
