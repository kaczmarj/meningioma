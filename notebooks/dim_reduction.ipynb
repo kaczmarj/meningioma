{
 "cells": [
  {
   "cell_type": "code",
   "execution_count": 2,
   "metadata": {
    "collapsed": false
   },
   "outputs": [],
   "source": [
    "%matplotlib inline\n",
    "import matplotlib.pyplot as plt\n",
    "import numpy as np\n",
    "\n",
    "from sklearn.feature_extraction import image\n",
    "from sklearn.metrics import pairwise, silhouette_score\n",
    "from sklearn import cluster\n",
    "from sklearn.decomposition import PCA\n",
    "from sklearn.manifold import TSNE\n",
    "\n",
    "import seaborn as sns"
   ]
  },
  {
   "cell_type": "code",
   "execution_count": 3,
   "metadata": {
    "collapsed": false
   },
   "outputs": [
    {
     "data": {
      "text/plain": [
       "<matplotlib.text.Text at 0x2afd6f237750>"
      ]
     },
     "execution_count": 3,
     "metadata": {},
     "output_type": "execute_result"
    },
    {
     "name": "stderr",
     "output_type": "stream",
     "text": [
      "/om/user/jakubk/jakub_env/lib/python2.7/site-packages/matplotlib/font_manager.py:273: UserWarning: Matplotlib is building the font cache using fc-list. This may take a moment.\n",
      "  warnings.warn('Matplotlib is building the font cache using fc-list. This may take a moment.')\n"
     ]
    },
    {
     "data": {
      "image/png": "[encoded data removed]",
      "text/plain": [
       "<matplotlib.figure.Figure at 0x2afd6f16d590>"
      ]
     },
     "metadata": {},
     "output_type": "display_data"
    }
   ],
   "source": [
    "# Adapted from:\n",
    "# http://scikit-learn.org/stable/auto_examples/cluster/plot_segmentation_toy.html\n",
    "\n",
    "def get_synthetic_slice(dim, with_tumor=False):\n",
    "    \"\"\"Return array with shape (dim, dim) that approximates skull, brain, \n",
    "    and tumor.\n",
    "    \n",
    "    dim: length of one side of the square array.\n",
    "    with_tumor: whether tumor should be present in output array.\n",
    "    \"\"\"\n",
    "    l = dim\n",
    "    x, y = np.indices((dim, dim))\n",
    "    # Define centers of circles and their radii.\n",
    "    skull_cen = (dim // 2, dim // 2)\n",
    "    brain_cen = skull_cen\n",
    "    tumor_cen = (dim // 2 + 20, dim // 2 + 20)\n",
    "    skull_rad, brain_rad, tumor_rad = 80, 75, 20\n",
    "\n",
    "    # Create boolean arrays to represent brain and tumor.\n",
    "    skull = (x - skull_cen[0]) ** 2 + (y - skull_cen[1]) ** 2 < skull_rad ** 2\n",
    "    brain = (x - brain_cen[0]) ** 2 + (y - brain_cen[1]) ** 2 < brain_rad ** 2\n",
    "    tumor = (x - tumor_cen[0]) ** 2 + (y - tumor_cen[1]) ** 2 < tumor_rad ** 2\n",
    "\n",
    "    # Convert to int32 so addition will lead to unique classes.\n",
    "    skull = skull.astype(np.int32)\n",
    "    brain = brain.astype(np.int32)\n",
    "    tumor = tumor.astype(np.int32)\n",
    "\n",
    "    # Add together to make complete image.\n",
    "    if with_tumor:\n",
    "        return (skull + brain + tumor) * 1000\n",
    "    else:\n",
    "        return (skull + brain) * 1000\n",
    "\n",
    "img = get_synthetic_slice(256, with_tumor=True)\n",
    "plt.matshow(img)\n",
    "plt.title(\"Approximation of axial slice\")"
   ]
  },
  {
   "cell_type": "code",
   "execution_count": 4,
   "metadata": {
    "collapsed": false,
    "scrolled": false
   },
   "outputs": [
    {
     "name": "stdout",
     "output_type": "stream",
     "text": [
      "((65536, 1), (65536,))\n"
     ]
    }
   ],
   "source": [
    "img_flat = img.flatten().reshape(-1, 1)\n",
    "y = (img_flat / 1000).flatten()\n",
    "\n",
    "print(img_flat.shape, y.shape)"
   ]
  },
  {
   "cell_type": "code",
   "execution_count": 5,
   "metadata": {
    "collapsed": true
   },
   "outputs": [],
   "source": [
    "# Perform t-SNE.\n",
    "X_tsne = TSNE(perplexity=30, learning_rate=500.).fit_transform(img_flat)"
   ]
  },
  {
   "cell_type": "code",
   "execution_count": null,
   "metadata": {
    "collapsed": true
   },
   "outputs": [],
   "source": [
    "palette = np.array(sns.color_palette(\"hls\", 2))\n",
    "plt.scatter(X_tsne[:, 0], X_tsne[:, 1], c=palette[y.astype(np.int)])"
   ]
  },
  {
   "cell_type": "code",
   "execution_count": null,
   "metadata": {
    "collapsed": true
   },
   "outputs": [],
   "source": []
  },
  {
   "cell_type": "code",
   "execution_count": null,
   "metadata": {
    "collapsed": true
   },
   "outputs": [],
   "source": [
    "# Compute similarity matrix.\n",
    "sim = pairwise.cosine_similarity(img)"
   ]
  },
  {
   "cell_type": "code",
   "execution_count": null,
   "metadata": {
    "collapsed": true
   },
   "outputs": [],
   "source": []
  },
  {
   "cell_type": "code",
   "execution_count": null,
   "metadata": {
    "collapsed": true
   },
   "outputs": [],
   "source": []
  },
  {
   "cell_type": "code",
   "execution_count": null,
   "metadata": {
    "collapsed": true
   },
   "outputs": [],
   "source": []
  }
 ],
 "metadata": {
  "anaconda-cloud": {},
  "kernelspec": {
   "display_name": "Python [default]",
   "language": "python",
   "name": "python2"
  },
  "language_info": {
   "codemirror_mode": {
    "name": "ipython",
    "version": 2
   },
   "file_extension": ".py",
   "mimetype": "text/x-python",
   "name": "python",
   "nbconvert_exporter": "python",
   "pygments_lexer": "ipython2",
   "version": "2.7.12"
  }
 },
 "nbformat": 4,
 "nbformat_minor": 1
}
