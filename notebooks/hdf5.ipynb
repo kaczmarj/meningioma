{
 "cells": [
  {
   "cell_type": "markdown",
   "metadata": {},
   "source": [
    "# Preparing the train/test data"
   ]
  },
  {
   "cell_type": "code",
   "execution_count": null,
   "metadata": {
    "collapsed": false
   },
   "outputs": [],
   "source": [
    "%matplotlib inline\n",
    "\n",
    "from glob import glob\n",
    "import os.path as op\n",
    "\n",
    "import h5py\n",
    "import matplotlib.pyplot as plt\n",
    "import nibabel as nib\n",
    "import numpy as np\n",
    "from scipy.misc import imresize  # PIL or Pillow must be installed."
   ]
  },
  {
   "cell_type": "code",
   "execution_count": null,
   "metadata": {
    "collapsed": false
   },
   "outputs": [],
   "source": [
    "def plot(arr, title=None, **kwds):\n",
    "    \"\"\"Plot 2D array.\"\"\"\n",
    "    plt.imshow(arr.T, cmap='gray', origin='lower', **kwds)\n",
    "    if title is not None:\n",
    "        plt.title(title)\n",
    "    plt.show()"
   ]
  },
  {
   "cell_type": "markdown",
   "metadata": {},
   "source": [
    "# Resizing to uniform shape"
   ]
  },
  {
   "cell_type": "code",
   "execution_count": null,
   "metadata": {
    "collapsed": false,
    "scrolled": true
   },
   "outputs": [],
   "source": [
    "img = nib.load(\"../data/subj-001/anat/subj-001_gad-T1w.nii.gz\")\n",
    "data = img.get_data()\n",
    "\n",
    "slice_ = data[:, :, 25]\n",
    "print(\"shape\", slice_.shape)\n",
    "plot(slice_, 'original')"
   ]
  },
  {
   "cell_type": "code",
   "execution_count": null,
   "metadata": {
    "collapsed": false
   },
   "outputs": [],
   "source": [
    "new_shape = (256, 256)\n",
    "\n",
    "def resize_volume(arr, new_shape):\n",
    "    \"\"\"Resize the first two dimensions of a 3D array to `new_shape`.\"\"\"\n",
    "    res = np.zeros(new_shape + arr.shape[-1:], dtype=np.int16)\n",
    "    for z in range(arr.shape[-1]):\n",
    "        res[:, :, z] = imresize(arr[:, :, z], new_shape)\n",
    "    return res\n",
    "\n",
    "\n",
    "data_resized = resize_volume(data, new_shape)\n",
    "print(\"shape\", data_resized.shape)\n",
    "plot(data_resized[:, :, 25], \"resized (volume)\")"
   ]
  },
  {
   "cell_type": "markdown",
   "metadata": {},
   "source": [
    "# Load NIfTI from the web"
   ]
  },
  {
   "cell_type": "code",
   "execution_count": null,
   "metadata": {
    "collapsed": false
   },
   "outputs": [],
   "source": [
    "def load_url(url, suffix='.nii.gz', **kwds):\n",
    "    \"\"\"From URL, return image data, affine, header, and extra. `kwds` are for\n",
    "    `nibabel.load()`.\"\"\"\n",
    "    import tempfile\n",
    "    import requests\n",
    "    \n",
    "    with tempfile.NamedTemporaryFile(suffix=suffix) as fp:\n",
    "        r = requests.get(url)\n",
    "        r.raise_for_status()\n",
    "        fp.write(r.content)\n",
    "        img = nib.load(fp.name, **kwds)\n",
    "        return img.get_data(), img.affine, img.header, img.extra\n",
    "\n",
    "\n",
    "url = (\"https://dl.dropbox.com/sh/71jbelduefu41xs/AADysls57HwmJT0pdbbSVI4Na/\"\n",
    "       \"case_001_2.nii.gz\")\n",
    "data, _, _, _ = load_url(url)\n",
    "plot(data[:, :, 25])"
   ]
  },
  {
   "cell_type": "markdown",
   "metadata": {
    "collapsed": false
   },
   "source": [
    "# Save arrays to hdf5"
   ]
  },
  {
   "cell_type": "code",
   "execution_count": null,
   "metadata": {
    "collapsed": false
   },
   "outputs": [],
   "source": [
    "def get_filenames():\n",
    "    \"\"\"Return list of tuples, where each tuple consists of\n",
    "    (anat_filename, seg_filename).\"\"\"\n",
    "    import os.path as op\n",
    "    subjs = glob('../data/*')\n",
    "    fnames = []\n",
    "    for s in subjs:\n",
    "        try:\n",
    "            anat_file = glob(op.join(s, 'anat/*gad-T1w.nii.gz'))[0]\n",
    "            seg_file = glob(op.join(s, 'seg/*seg-uint8_gad-T1w.nii.gz'))[0]\n",
    "            fnames.append((anat_file, seg_file))\n",
    "        except IndexError:\n",
    "            continue\n",
    "    return fnames\n",
    "\n",
    "def _transform(arr):\n",
    "    \"\"\"Transform `arr` to range [0, 1].\"\"\"\n",
    "    return (arr-arr.min())/(arr.max()-arr.min())\n",
    "\n",
    "def _resize_volume(arr, new_shape):\n",
    "    \"\"\"Resize the first two dimensions of a 3D array to `new_shape`.\"\"\"\n",
    "    from scipy.misc import imresize  # Requires PIL or Pillow.\n",
    "    res = np.zeros(new_shape + arr.shape[-1:], dtype=np.int16)\n",
    "    for z in range(arr.shape[-1]):\n",
    "        res[:, :, z] = imresize(arr[:, :, z], new_shape)\n",
    "    return res\n",
    "\n",
    "def _preprocess(arr, new_shape):\n",
    "    \"\"\"Return fully preprocessed array.\"\"\"\n",
    "    arr = _resize_volume(arr, new_shape)\n",
    "    return _transform(arr)\n",
    "\n",
    "def _gen_slices(arr):\n",
    "    for i in range(arr.shape[-1]):\n",
    "        yield arr[:, :, i]\n",
    "        \n",
    "def preprocess_all(fnames, **kwds):\n",
    "    slices = []\n",
    "    for f in fnames:\n",
    "        arr = nib.load(f).get_data()\n",
    "        arr = _preprocess(arr, **kwds)\n",
    "        slices.extend(_gen_slices(arr))\n",
    "    return np.array(slices, dtype=np.float32)"
   ]
  },
  {
   "cell_type": "code",
   "execution_count": null,
   "metadata": {
    "collapsed": false
   },
   "outputs": [],
   "source": [
    "slice_shape = (256, 256)\n",
    "\n",
    "fnames = get_filenames()\n",
    "anat_fnames = [f[0] for f in fnames]\n",
    "seg_fnames = [f[1] for f in fnames]\n",
    "\n",
    "anat_data = preprocess_all(anat_fnames, new_shape=slice_shape)\n",
    "seg_data = preprocess_all(seg_fnames, new_shape=slice_shape)"
   ]
  },
  {
   "cell_type": "code",
   "execution_count": null,
   "metadata": {
    "collapsed": false
   },
   "outputs": [],
   "source": [
    "print(\"anat shape:\", anat_data.shape)\n",
    "print(\"seg shape:\", seg_data.shape)"
   ]
  },
  {
   "cell_type": "code",
   "execution_count": null,
   "metadata": {
    "collapsed": false
   },
   "outputs": [],
   "source": [
    "with h5py.File('test_comp.h5', mode='w') as fp:\n",
    "    fp.create_dataset('/anat', data=anat_data, compression='gzip')\n",
    "    fp.create_dataset('/seg', data=seg_data, compression='gzip')"
   ]
  },
  {
   "cell_type": "code",
   "execution_count": null,
   "metadata": {
    "collapsed": true
   },
   "outputs": [],
   "source": []
  },
  {
   "cell_type": "code",
   "execution_count": null,
   "metadata": {
    "collapsed": true
   },
   "outputs": [],
   "source": []
  },
  {
   "cell_type": "code",
   "execution_count": null,
   "metadata": {
    "collapsed": false
   },
   "outputs": [],
   "source": [
    "fp = h5py.File('test.h5', mode='r')"
   ]
  },
  {
   "cell_type": "code",
   "execution_count": null,
   "metadata": {
    "collapsed": true
   },
   "outputs": [],
   "source": []
  },
  {
   "cell_type": "code",
   "execution_count": 2,
   "metadata": {
    "collapsed": false
   },
   "outputs": [],
   "source": [
    "from keras.models import Sequential\n",
    "from keras.layers import Dense\n",
    "from keras.utils.io_utils import HDF5Matrix"
   ]
  },
  {
   "cell_type": "code",
   "execution_count": 3,
   "metadata": {
    "collapsed": true
   },
   "outputs": [],
   "source": [
    "X_train = HDF5Matrix('test.h5', 'anat', start=0, end=150)\n",
    "y_train = HDF5Matrix('test.h5', 'seg', start=0, end=150)"
   ]
  },
  {
   "cell_type": "code",
   "execution_count": null,
   "metadata": {
    "collapsed": false
   },
   "outputs": [],
   "source": []
  },
  {
   "cell_type": "code",
   "execution_count": null,
   "metadata": {
    "collapsed": true
   },
   "outputs": [],
   "source": []
  },
  {
   "cell_type": "code",
   "execution_count": null,
   "metadata": {
    "collapsed": true
   },
   "outputs": [],
   "source": []
  }
 ],
 "metadata": {
  "kernelspec": {
   "display_name": "Python [conda env:tumseg]",
   "language": "python",
   "name": "conda-env-tumseg-py"
  },
  "language_info": {
   "codemirror_mode": {
    "name": "ipython",
    "version": 3
   },
   "file_extension": ".py",
   "mimetype": "text/x-python",
   "name": "python",
   "nbconvert_exporter": "python",
   "pygments_lexer": "ipython3",
   "version": "3.6.1"
  },
  "toc": {
   "colors": {
    "hover_highlight": "#DAA520",
    "running_highlight": "#FF0000",
    "selected_highlight": "#FFD700"
   },
   "moveMenuLeft": true,
   "nav_menu": {
    "height": "120px",
    "width": "252px"
   },
   "navigate_menu": true,
   "number_sections": false,
   "sideBar": true,
   "threshold": 4,
   "toc_cell": false,
   "toc_section_display": "block",
   "toc_window_display": false,
   "widenNotebook": false
  }
 },
 "nbformat": 4,
 "nbformat_minor": 2
}
