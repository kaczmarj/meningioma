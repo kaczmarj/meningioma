{
 "cells": [
  {
   "cell_type": "markdown",
   "metadata": {},
   "source": [
    "# Nipype sandbox\n",
    "\n",
    "\n",
    "Nipype basic doc\n",
    "\n",
    "- [iterables](http://nipype.readthedocs.io/en/latest/users/mapnode_and_iterables.html#iterables)\n",
    "- `help()` method to see function documentation.\n",
    "- `input_spec()` method to see default values.\n",
    "\n",
    "\n",
    "Workflow level -mgxd\n",
    "\n",
    "- Pass in subject, parameter in IdentityInterface ([function free nodes](http://miykael.github.io/nipype-beginner-s-guide/firstSteps.html#function-free-nodes))\n",
    "- Pass subject, parameter in BET node.\n",
    "\n",
    "\n",
    "Look at different brain extractors optimized for patients.\n",
    "\n",
    "- [optiBET](https://montilab.psych.ucla.edu/fmri-wiki/optibet/)"
   ]
  },
  {
   "cell_type": "markdown",
   "metadata": {},
   "source": [
    "# ANTs BrainExtraction on one subject\n",
    "\n",
    "No workflow."
   ]
  },
  {
   "cell_type": "code",
   "execution_count": null,
   "metadata": {
    "collapsed": false
   },
   "outputs": [],
   "source": [
    "from os import path as op\n",
    "\n",
    "from nipype import DataSink, Node, Workflow\n",
    "from nipype.interfaces import ants"
   ]
  },
  {
   "cell_type": "code",
   "execution_count": null,
   "metadata": {
    "collapsed": false
   },
   "outputs": [],
   "source": [
    "template_dir = op.abspath('ants_templates/OASIS-30_Atropos_template/')\n",
    "brain_template_fname = 'T_template0.nii.gz'\n",
    "prob_mask_fname = 'T_template0_BrainCerebellumProbabilityMask.nii.gz'"
   ]
  },
  {
   "cell_type": "code",
   "execution_count": null,
   "metadata": {
    "collapsed": false
   },
   "outputs": [],
   "source": [
    "seg = Node(ants.BrainExtraction(), name='seg')\n",
    "seg.inputs.anatomical_image = op.abspath('data/case_001_2.nii.gz')\n",
    "seg.inputs.brain_template = op.join(template_dir, brain_template_fname)\n",
    "seg.inputs.brain_probability_mask = op.join(template_dir, prob_mask_fname)\n",
    "\n",
    "# Node to save output files.\n",
    "sinker = Node(DataSink(), name='sinker')\n",
    "sinker.inputs.base_directory = op.abspath('ants_bash_test')"
   ]
  },
  {
   "cell_type": "code",
   "execution_count": null,
   "metadata": {
    "collapsed": true
   },
   "outputs": [],
   "source": [
    "\n",
    "# Workflow.\n",
    "wf = Workflow(name='ants_bash_seg', base_dir='/om/scratch/Wed/jakubk/')\n",
    "wf.connect(grab, 't1', seg, 'anatomical_image')\n",
    "wf.connect(seg, 'BrainSegmentation', sinker, 'segs/.')\n",
    "wf.connect(seg, 'BrainExtractionMask', sinker, 'extract/.')\n",
    "wf.connect(seg, 'CorticalThickness', sinker, 'thickness/.')\n",
    "wf.connect(seg, 'BrainVolumes', sinker, 'vols/.')"
   ]
  },
  {
   "cell_type": "code",
   "execution_count": null,
   "metadata": {
    "collapsed": true
   },
   "outputs": [],
   "source": []
  },
  {
   "cell_type": "code",
   "execution_count": null,
   "metadata": {
    "collapsed": true
   },
   "outputs": [],
   "source": []
  },
  {
   "cell_type": "markdown",
   "metadata": {
    "collapsed": true
   },
   "source": [
    "# FSL FAST workflow"
   ]
  },
  {
   "cell_type": "code",
   "execution_count": 9,
   "metadata": {
    "collapsed": false
   },
   "outputs": [],
   "source": [
    "from os import path as op\n",
    "\n",
    "from nipype import DataGrabber, DataSink, Node, MapNode, Workflow\n",
    "from nipype.interfaces import fsl\n",
    "\n",
    "# Node to grab data.\n",
    "grab = Node(DataGrabber(outfields=['t1', 'brain']), name='grabber')\n",
    "grab.inputs.base_directory = '/om/user/jakubk/meningioma/'\n",
    "grab.inputs.template = '*.nii.gz'\n",
    "# Change filenames later to specify T1.\n",
    "grab.inputs.field_template = {'t1': 'data/*.nii.gz',\n",
    "                              'brain': 'ants_seg_output/brain/*.nii.gz'}\n",
    "grab.inputs.sort_filelist = True\n",
    "\n",
    "fast = MapNode(fsl.FAST(), iterfield=['in_files'], name='fast')\n",
    "fast.inputs.img_type = 1\n",
    "fast.inputs.probability_maps = True\n",
    "fast.iterables = ('number_classes', [3, 4, 5])\n",
    "\n",
    "sinker = Node(DataSink(), name='sinker')\n",
    "sinker.inputs.base_directory = op.abspath('fast_output')\n",
    "\n",
    "wf = Workflow(name='fast', base_dir='/om/scratch/Wed/jakubk/')\n",
    "wf.connect(grab, 't1', fast, 'in_files')\n",
    "wf.connect(fast, 'probability_maps', sinker, 'prob')\n",
    "wf.connect(fast, 'restored_image', sinker, 'restored')\n",
    "wf.connect(fast, 'tissue_class_files', sinker, 'tissue_files')\n",
    "wf.connect(fast, 'tissue_class_map', sinker, 'tissue_map')\n",
    "\n",
    "wf.run(plugin='SLURM', plugin_args={'sbatch_args': '--mem=50GB'})"
   ]
  },
  {
   "cell_type": "code",
   "execution_count": null,
   "metadata": {
    "collapsed": true
   },
   "outputs": [],
   "source": []
  },
  {
   "cell_type": "markdown",
   "metadata": {},
   "source": [
    "# Garbage"
   ]
  },
  {
   "cell_type": "code",
   "execution_count": null,
   "metadata": {
    "collapsed": true
   },
   "outputs": [],
   "source": [
    "from glob import glob\n",
    "import os\n",
    "import os.path as op\n",
    "\n",
    "from nipype.interfaces import afni, ants, fsl, slicer, spm, io\n",
    "import nipype.interfaces.utility as niu\n",
    "import nipype.pipeline.engine as pe"
   ]
  },
  {
   "cell_type": "code",
   "execution_count": null,
   "metadata": {
    "collapsed": false
   },
   "outputs": [],
   "source": [
    "PATH = op.abspath('.')\n",
    "PATH\n",
    "\n",
    "files = sorted(glob(op.join(PATH, 'data/*.nii.gz')))\n",
    "print(\"{} NIFTI files\".format(len(files)))\n",
    "\n",
    "# ANTs BrainExtraction\n",
    "\n",
    "def get_files():\n",
    "    return sorted(glob(op.join(PATH, 'data/*.nii.gz')))\n",
    "\n",
    "anat_files = pe.Node(niu.IdentityInterface(fields=['anatomical']),\n",
    "                     name='anat_files')\n",
    "anat_files.iterables = [('anatomical', get_files())]\n",
    "\n",
    "templates = [op.join(PATH, \n",
    "                     'ants_templates/IXI/T_template{}.nii.gz'.format(i)) for i in range(4)]\n",
    "strip = pe.Node(ants.BrainExtraction(), name='strip')\n",
    "strip.inputs.dimension = 3\n",
    "strip.iterables = ('brain_template', templates)\n",
    "strip.inputs.brain_probability_mask = op.join(PATH, 'ants_templates/IXI/T_templateProbabilityMask.nii.gz')\n",
    "\n",
    "wf = pe.Workflow(name='ants_brainstripper', base_dir='ants_skullstrip')\n",
    "wf.connect(anat_files, 'anatomical', strip, 'anatomical_image')\n",
    "# wf.run(plugin='SLURM')"
   ]
  },
  {
   "cell_type": "code",
   "execution_count": null,
   "metadata": {
    "collapsed": true
   },
   "outputs": [],
   "source": []
  },
  {
   "cell_type": "markdown",
   "metadata": {},
   "source": [
    "# BrainExtraction with `mgxd`"
   ]
  },
  {
   "cell_type": "code",
   "execution_count": null,
   "metadata": {
    "collapsed": false
   },
   "outputs": [],
   "source": [
    "import os.path as op\n",
    "from nipype import Node, Workflow, DataGrabber, DataSink, MapNode\n",
    "from nipype.interfaces import ants\n",
    "\n",
    "base_dir = '/om/user/jakubk/meningioma/'\n",
    "\n",
    "# Node to grab data.\n",
    "grab = Node(DataGrabber(outfields=['t1']), name='grabber')\n",
    "grab.inputs.base_directory = '/om/user/jakubk/meningioma/data'\n",
    "grab.inputs.template = '*.nii.gz'\n",
    "# Change filenames later to specify T1.\n",
    "grab.inputs.field_template = {'t1': '*.nii.gz'}\n",
    "grab.inputs.sort_filelist = True\n",
    "\n",
    "# Node to run antsCorticalThickness.\n",
    "# Segments the anatomical image and should extract brain.\n",
    "template_dir = op.join(base_dir, 'ants_templates', 'OASIS-30_Atropos_template')\n",
    "seg = MapNode(ants.CorticalThickness(), iterfield=['anatomical_image'], name='seg')\n",
    "seg.inputs.dimension = 3\n",
    "seg.inputs.brain_template = op.join(template_dir, 'T_template0.nii.gz')\n",
    "seg.inputs.t1_registration_template = op.join(template_dir, 'T_template0_BrainCerebellum.nii.gz')\n",
    "seg.inputs.brain_probability_mask = op.join(template_dir,\n",
    "                                            'T_template0_BrainCerebellumProbabilityMask.nii.gz')\n",
    "seg.inputs.segmentation_priors = [op.join(template_dir, 'Priors2', 'priors{}.nii.gz'.format(i)) for i in range(1, 7)]\n",
    "seg.inputs.extraction_registration_mask = op.join(template_dir, 'T_template0_BrainCerebellumExtractionMask.nii.gz')\n",
    "seg.inputs.quick_registration = True\n",
    "seg.inputs.segmentation_iterations = 1\n",
    "\n",
    "# Node to save output files.\n",
    "sinker = Node(DataSink(), name='sinker')\n",
    "sinker.inputs.base_directory = op.join(base_dir, 'ants_seg_output')\n",
    "\n",
    "# Workflow.\n",
    "wf = Workflow(name='ants_seg', base_dir='/om/scratch/Wed/jakubk/')\n",
    "wf.connect(grab, 't1', seg, 'anatomical_image')\n",
    "wf.connect(seg, 'BrainSegmentation', sinker, 'segs/.')\n",
    "wf.connect(seg, 'BrainExtractionMask', sinker, 'extract/.')\n",
    "wf.connect(seg, 'CorticalThickness', sinker, 'thickness/.')\n",
    "wf.connect(seg, 'BrainVolumes', sinker, 'vols/.')"
   ]
  },
  {
   "cell_type": "code",
   "execution_count": null,
   "metadata": {
    "collapsed": true
   },
   "outputs": [],
   "source": []
  },
  {
   "cell_type": "code",
   "execution_count": null,
   "metadata": {
    "collapsed": true
   },
   "outputs": [],
   "source": []
  },
  {
   "cell_type": "code",
   "execution_count": null,
   "metadata": {
    "collapsed": true
   },
   "outputs": [],
   "source": []
  },
  {
   "cell_type": "code",
   "execution_count": null,
   "metadata": {
    "collapsed": true
   },
   "outputs": [],
   "source": []
  },
  {
   "cell_type": "markdown",
   "metadata": {},
   "source": [
    "### Iterate over IXI templates in 3 subjects"
   ]
  },
  {
   "cell_type": "code",
   "execution_count": null,
   "metadata": {
    "collapsed": false
   },
   "outputs": [],
   "source": [
    "templates = ['ants_templates/IXI/T_template{}.nii.gz'.format(i) for i in range(4)]\n",
    "\n",
    "strip = pe.Node(ants.BrainExtraction(), name='strip')\n",
    "strip.inputs.dimension = 3\n",
    "strip.iterables = [('brain_template', templates),]\n",
    "strip.inputs.brain_probability_mask ='ants_templates/IXI/T_templateProbabilityMask.nii.gz'"
   ]
  },
  {
   "cell_type": "markdown",
   "metadata": {},
   "source": [
    "### No iterable"
   ]
  },
  {
   "cell_type": "code",
   "execution_count": null,
   "metadata": {
    "collapsed": false,
    "scrolled": false
   },
   "outputs": [],
   "source": [
    "strip = ants.BrainExtraction()\n",
    "strip.inputs.dimension = 3\n",
    "strip.inputs.anatomical_image ='data/case_001_2.nii.gz'\n",
    "strip.inputs.brain_template = 'ants_templates/IXI/T_template0.nii.gz'\n",
    "strip.inputs.brain_probability_mask ='ants_templates/IXI/T_templateProbabilityMask.nii.gz'"
   ]
  },
  {
   "cell_type": "code",
   "execution_count": null,
   "metadata": {
    "collapsed": true
   },
   "outputs": [],
   "source": []
  },
  {
   "cell_type": "code",
   "execution_count": null,
   "metadata": {
    "collapsed": false
   },
   "outputs": [],
   "source": [
    "id_node = pe.Node(IdentityInterface(fields=['anatomical']), name='id_node')\n",
    "id_node.iterables = ('anatomical', files[:1])\n",
    "\n",
    "templates = ['ants_templates/IXI/T_template{}.nii.gz'.format(i) for i in range(4)]\n",
    "strip = pe.Node(ants.BrainExtraction(), name='strip')\n",
    "strip.inputs.dimension = 3\n",
    "strip.iterables = ('brain_template', templates)\n",
    "strip.inputs.brain_probability_mask = op.join(PATH, 'ants_templates/IXI/T_templateProbabilityMask.nii.gz')\n",
    "\n",
    "# datasink = pe.Node(io.DataSink(), name='sink')\n",
    "# datasink.inputs.base_directory = 'brains'\n",
    "\n",
    "skullstrip = pe.Workflow(name='skullstrip', base_dir='ants_brain')\n",
    "skullstrip.connect(id_node, 'anatomical', strip, 'anatomical_image')\n",
    "# skullstrip.connect(strip, 'out_file', convert, 'in_file')\n",
    "# skullstrip.connect(strip, 'out_file', datasink, 'container')"
   ]
  },
  {
   "cell_type": "code",
   "execution_count": null,
   "metadata": {
    "collapsed": false
   },
   "outputs": [],
   "source": [
    "skullstrip.run()"
   ]
  },
  {
   "cell_type": "code",
   "execution_count": null,
   "metadata": {
    "collapsed": false,
    "scrolled": false
   },
   "outputs": [],
   "source": []
  },
  {
   "cell_type": "code",
   "execution_count": null,
   "metadata": {
    "collapsed": false
   },
   "outputs": [],
   "source": [
    "out = id_node.run()\n",
    "out.outputs.anatomical"
   ]
  },
  {
   "cell_type": "code",
   "execution_count": null,
   "metadata": {
    "collapsed": true
   },
   "outputs": [],
   "source": []
  },
  {
   "cell_type": "markdown",
   "metadata": {},
   "source": [
    "# Trying DataSink"
   ]
  },
  {
   "cell_type": "code",
   "execution_count": null,
   "metadata": {
    "collapsed": false
   },
   "outputs": [],
   "source": [
    "files[0]"
   ]
  },
  {
   "cell_type": "code",
   "execution_count": null,
   "metadata": {
    "collapsed": true
   },
   "outputs": [],
   "source": [
    "def "
   ]
  },
  {
   "cell_type": "code",
   "execution_count": null,
   "metadata": {
    "collapsed": false
   },
   "outputs": [],
   "source": [
    "id_node = pe.Node(IdentityInterface(fields=['anatomical']), name='id_node')\n",
    "id_node.iterables = [('anatomical', ['data/case_001_2.nii.gz'])]\n",
    "\n",
    "bet = pe.Node(fsl.BET(), name='bet')\n",
    "\n",
    "sink = pe.Node(io.DataSink(), name='sinker')\n",
    "sink.inputs.base_directory = 'test_sink'"
   ]
  },
  {
   "cell_type": "code",
   "execution_count": null,
   "metadata": {
    "collapsed": false,
    "scrolled": false
   },
   "outputs": [],
   "source": [
    "wf = pe.Workflow(name='test_wf')\n",
    "wf.connect(id_node, 'anatomical', bet, 'in_file')\n",
    "wf.connect(bet, 'out_file', sink, 'brain')\n",
    "wf.run(plugin='MultiProc')"
   ]
  },
  {
   "cell_type": "code",
   "execution_count": null,
   "metadata": {
    "collapsed": true
   },
   "outputs": [],
   "source": []
  },
  {
   "cell_type": "code",
   "execution_count": null,
   "metadata": {
    "collapsed": true
   },
   "outputs": [],
   "source": []
  },
  {
   "cell_type": "code",
   "execution_count": null,
   "metadata": {
    "collapsed": true
   },
   "outputs": [],
   "source": []
  },
  {
   "cell_type": "code",
   "execution_count": null,
   "metadata": {
    "collapsed": true
   },
   "outputs": [],
   "source": []
  },
  {
   "cell_type": "code",
   "execution_count": null,
   "metadata": {
    "collapsed": true
   },
   "outputs": [],
   "source": []
  },
  {
   "cell_type": "code",
   "execution_count": null,
   "metadata": {
    "collapsed": true
   },
   "outputs": [],
   "source": []
  },
  {
   "cell_type": "code",
   "execution_count": null,
   "metadata": {
    "collapsed": true
   },
   "outputs": [],
   "source": []
  },
  {
   "cell_type": "code",
   "execution_count": null,
   "metadata": {
    "collapsed": true
   },
   "outputs": [],
   "source": []
  },
  {
   "cell_type": "code",
   "execution_count": null,
   "metadata": {
    "collapsed": false,
    "scrolled": false
   },
   "outputs": [],
   "source": [
    "fsl_data_dir = '/cm/shared/openmind/fsl/5.0.9/data/'\n",
    "brainextraction = ants.BrainExtraction()\n",
    "brainextraction.inputs.dimension = 3\n",
    "brainextraction.inputs.anatomical_image ='data/case_001_2.nii.gz'\n",
    "brainextraction.inputs.brain_template = op.join(fsl_data_dir, 'standard/MNI152_T1_2mm_brain_mask.nii.gz')\n",
    "brainextraction.inputs.brain_probability_mask = op.join(fsl_data_dir, 'atlases/MNI/MNI-maxprob-thr50-2mm.nii.gz')\n",
    "brainextraction.inputs.args = '-o \"brain_\"'\n",
    "brainextraction.run()"
   ]
  },
  {
   "cell_type": "code",
   "execution_count": null,
   "metadata": {
    "collapsed": false,
    "scrolled": false
   },
   "outputs": [],
   "source": [
    "help(ants.BrainExtraction)"
   ]
  },
  {
   "cell_type": "code",
   "execution_count": null,
   "metadata": {
    "collapsed": false
   },
   "outputs": [],
   "source": [
    "a = afni.SkullStrip()\n",
    "a.inputs.in_file = brains[0]\n",
    "a.inputs.args = '-use_skull'\n",
    "a.inputs.out_file = \"case_001_\"\n",
    "a.run()"
   ]
  },
  {
   "cell_type": "code",
   "execution_count": null,
   "metadata": {
    "collapsed": false,
    "scrolled": true
   },
   "outputs": [],
   "source": [
    "a = afni.AFNItoNIFTI()\n",
    "a.inputs.in_file = \"case_001_+orig.HEAD\"\n",
    "a.inputs.out_file = \"case_001_1_useskull.nii.gz\"\n",
    "a.run()"
   ]
  },
  {
   "cell_type": "code",
   "execution_count": null,
   "metadata": {
    "collapsed": false
   },
   "outputs": [],
   "source": [
    "files = sorted(glob('data/*.nii.gz'))\n",
    "print(\"{} NIFTI files\".format(len(files)))\n",
    "\n",
    "id_node = pe.Node(IdentityInterface(fields=['raw_files']), name='id_node')\n",
    "id_node.iterables = ('raw_files', files[:5])\n",
    "\n",
    "strip = pe.Node(afni.SkullStrip(), name='strip')\n",
    "convert = pe.Node(afni.AFNItoNIFTI(), name='convert')\n",
    "datasink = pe.Node(io.DataSink(), name='sink')\n",
    "datasink.inputs.base_directory = 'brains'\n",
    "\n",
    "skullstrip = pe.Workflow(name='skullstrip')\n",
    "skullstrip.connect(id_node, 'raw_files', strip, 'in_file')\n",
    "# skullstrip.connect(strip, 'out_file', convert, 'in_file')\n",
    "skullstrip.connect(strip, 'out_file', datasink, 'container')"
   ]
  },
  {
   "cell_type": "code",
   "execution_count": null,
   "metadata": {
    "collapsed": false
   },
   "outputs": [],
   "source": [
    "strip_wf.run(plugin='MultiProc')"
   ]
  },
  {
   "cell_type": "code",
   "execution_count": null,
   "metadata": {
    "collapsed": false,
    "scrolled": true
   },
   "outputs": [],
   "source": [
    "strip_wf.write_graph()"
   ]
  },
  {
   "cell_type": "code",
   "execution_count": null,
   "metadata": {
    "collapsed": true
   },
   "outputs": [],
   "source": []
  },
  {
   "cell_type": "code",
   "execution_count": null,
   "metadata": {
    "collapsed": true
   },
   "outputs": [],
   "source": []
  },
  {
   "cell_type": "code",
   "execution_count": null,
   "metadata": {
    "collapsed": true
   },
   "outputs": [],
   "source": []
  },
  {
   "cell_type": "code",
   "execution_count": null,
   "metadata": {
    "collapsed": false,
    "scrolled": false
   },
   "outputs": [],
   "source": [
    "strip = pe.Workflow(name='strip', base_dir='test-wf')\n",
    "strip.connect(id_node, 'brain', afni_strip, 'in_file')\n",
    "# strip.connect(id_node, 'thres', bet, 'frac')\n",
    "eg = strip.run()"
   ]
  },
  {
   "cell_type": "code",
   "execution_count": null,
   "metadata": {
    "collapsed": false
   },
   "outputs": [],
   "source": [
    "convert = afni.AFNItoNIFTI()\n",
    "convert.inputs.in_file = 'afni_+orig.HEAD'\n",
    "convert.inputs.out_file = 'afni_+orig.nii.gz'\n",
    "convert.run()"
   ]
  },
  {
   "cell_type": "code",
   "execution_count": null,
   "metadata": {
    "collapsed": false,
    "scrolled": true
   },
   "outputs": [],
   "source": [
    "help(afni.SkullStrip)"
   ]
  },
  {
   "cell_type": "code",
   "execution_count": null,
   "metadata": {
    "collapsed": true
   },
   "outputs": [],
   "source": []
  },
  {
   "cell_type": "code",
   "execution_count": null,
   "metadata": {
    "collapsed": true
   },
   "outputs": [],
   "source": []
  },
  {
   "cell_type": "code",
   "execution_count": null,
   "metadata": {
    "collapsed": true
   },
   "outputs": [],
   "source": []
  },
  {
   "cell_type": "code",
   "execution_count": null,
   "metadata": {
    "collapsed": false,
    "scrolled": true
   },
   "outputs": [],
   "source": [
    "# ANTS brain extraction\n",
    "# 1. create template using buildtemplateparallel.sh\n",
    "# 2. warp brain masks from LPBA40 data to the template space\n",
    "#    to create probabilistic mask of the brain in template \n",
    "#\n",
    "# ants.BrainExtraction() requires `anatomical_image`,\n",
    "# `brain_probability_mask`, and `brain_template`."
   ]
  },
  {
   "cell_type": "code",
   "execution_count": null,
   "metadata": {
    "collapsed": false,
    "scrolled": true
   },
   "outputs": [],
   "source": [
    "# # AFNI (add afni to environment)\n",
    "# afni_strip = pe.Node(afni.SkullStrip(), name='afni_strip')\n",
    "\n",
    "# ANTS\n",
    "afni_strip = pe.Node(afni.SkullStrip(), name='afni_strip')"
   ]
  },
  {
   "cell_type": "code",
   "execution_count": null,
   "metadata": {
    "collapsed": false,
    "scrolled": false
   },
   "outputs": [],
   "source": [
    "afni_strip = afni.SkullStrip()\n",
    "afni_strip.inputs.in_file = brains[0]\n",
    "afni_strip.inputs.out_file = \"afni_\"\n",
    "# afni_strip.inputs.args = '-use_skull'\n",
    "afni_strip.run()"
   ]
  }
 ],
 "metadata": {
  "anaconda-cloud": {},
  "kernelspec": {
   "display_name": "Python [default]",
   "language": "python",
   "name": "python2"
  },
  "language_info": {
   "codemirror_mode": {
    "name": "ipython",
    "version": 2
   },
   "file_extension": ".py",
   "mimetype": "text/x-python",
   "name": "python",
   "nbconvert_exporter": "python",
   "pygments_lexer": "ipython2",
   "version": "2.7.13"
  },
  "toc": {
   "colors": {
    "hover_highlight": "#DAA520",
    "running_highlight": "#FF0000",
    "selected_highlight": "#FFD700"
   },
   "moveMenuLeft": true,
   "nav_menu": {
    "height": "156px",
    "width": "252px"
   },
   "navigate_menu": true,
   "number_sections": false,
   "sideBar": true,
   "threshold": 4,
   "toc_cell": false,
   "toc_section_display": "block",
   "toc_window_display": false
  }
 },
 "nbformat": 4,
 "nbformat_minor": 1
}
